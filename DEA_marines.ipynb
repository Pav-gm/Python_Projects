{
 "cells": [
  {
   "cell_type": "markdown",
   "metadata": {},
   "source": [
    "#Data Exploratory Analysis\n",
    "\n",
    "##Marines economy data from 2007 through 2020\n",
    "\n",
    "###Over this data set, we will perform exploratory analysis in order to gather information from the data set that will be imported."
   ]
  },
  {
   "cell_type": "code",
   "execution_count": 51,
   "metadata": {},
   "outputs": [],
   "source": [
    "####Importing libraries to use\n",
    "\n",
    "import pandas as pd\n",
    "import numpy as np\n",
    "import matplotlib as mp\n",
    "import plotly.express as pl"
   ]
  },
  {
   "cell_type": "code",
   "execution_count": 12,
   "metadata": {},
   "outputs": [
    {
     "data": {
      "text/html": [
       "<div>\n",
       "<style scoped>\n",
       "    .dataframe tbody tr th:only-of-type {\n",
       "        vertical-align: middle;\n",
       "    }\n",
       "\n",
       "    .dataframe tbody tr th {\n",
       "        vertical-align: top;\n",
       "    }\n",
       "\n",
       "    .dataframe thead th {\n",
       "        text-align: right;\n",
       "    }\n",
       "</style>\n",
       "<table border=\"1\" class=\"dataframe\">\n",
       "  <thead>\n",
       "    <tr style=\"text-align: right;\">\n",
       "      <th></th>\n",
       "      <th>year</th>\n",
       "      <th>category</th>\n",
       "      <th>variable</th>\n",
       "      <th>units</th>\n",
       "      <th>magnitude</th>\n",
       "      <th>source</th>\n",
       "      <th>data_value</th>\n",
       "      <th>flag</th>\n",
       "    </tr>\n",
       "  </thead>\n",
       "  <tbody>\n",
       "    <tr>\n",
       "      <th>0</th>\n",
       "      <td>2007</td>\n",
       "      <td>Fisheries and aquaculture</td>\n",
       "      <td>Cont. to ME Wage and salary earners</td>\n",
       "      <td>Proportion</td>\n",
       "      <td>Actual</td>\n",
       "      <td>LEED</td>\n",
       "      <td>42.1</td>\n",
       "      <td>R</td>\n",
       "    </tr>\n",
       "    <tr>\n",
       "      <th>1</th>\n",
       "      <td>2007</td>\n",
       "      <td>Fisheries and aquaculture</td>\n",
       "      <td>Contribution to marine economy GDP</td>\n",
       "      <td>Proportion</td>\n",
       "      <td>Actual</td>\n",
       "      <td>Environmental Accounts</td>\n",
       "      <td>24.5</td>\n",
       "      <td>R</td>\n",
       "    </tr>\n",
       "    <tr>\n",
       "      <th>2</th>\n",
       "      <td>2007</td>\n",
       "      <td>Fisheries and aquaculture</td>\n",
       "      <td>Contribution to marine economy earnings</td>\n",
       "      <td>Proportion</td>\n",
       "      <td>Actual</td>\n",
       "      <td>LEED</td>\n",
       "      <td>41.6</td>\n",
       "      <td>R</td>\n",
       "    </tr>\n",
       "    <tr>\n",
       "      <th>3</th>\n",
       "      <td>2007</td>\n",
       "      <td>Fisheries and aquaculture</td>\n",
       "      <td>Contribution to total GDP</td>\n",
       "      <td>Proportion</td>\n",
       "      <td>Actual</td>\n",
       "      <td>Environmental Accounts</td>\n",
       "      <td>0.4</td>\n",
       "      <td>F</td>\n",
       "    </tr>\n",
       "    <tr>\n",
       "      <th>4</th>\n",
       "      <td>2007</td>\n",
       "      <td>Fisheries and aquaculture</td>\n",
       "      <td>GDP</td>\n",
       "      <td>Dollars</td>\n",
       "      <td>Thousands</td>\n",
       "      <td>Environmental Accounts</td>\n",
       "      <td>715722.0</td>\n",
       "      <td>F</td>\n",
       "    </tr>\n",
       "    <tr>\n",
       "      <th>...</th>\n",
       "      <td>...</td>\n",
       "      <td>...</td>\n",
       "      <td>...</td>\n",
       "      <td>...</td>\n",
       "      <td>...</td>\n",
       "      <td>...</td>\n",
       "      <td>...</td>\n",
       "      <td>...</td>\n",
       "    </tr>\n",
       "    <tr>\n",
       "      <th>577</th>\n",
       "      <td>2019</td>\n",
       "      <td>Total marine economy</td>\n",
       "      <td>Wage and salary earners</td>\n",
       "      <td>Number</td>\n",
       "      <td>Actual</td>\n",
       "      <td>LEED</td>\n",
       "      <td>39846.0</td>\n",
       "      <td>P</td>\n",
       "    </tr>\n",
       "    <tr>\n",
       "      <th>578</th>\n",
       "      <td>2020</td>\n",
       "      <td>Total marine economy</td>\n",
       "      <td>Contribution to total GDP</td>\n",
       "      <td>Proportion</td>\n",
       "      <td>Actual</td>\n",
       "      <td>Environmental Accounts</td>\n",
       "      <td>1.4</td>\n",
       "      <td>P</td>\n",
       "    </tr>\n",
       "    <tr>\n",
       "      <th>579</th>\n",
       "      <td>2020</td>\n",
       "      <td>Total marine economy</td>\n",
       "      <td>GDP</td>\n",
       "      <td>Dollars</td>\n",
       "      <td>Thousands</td>\n",
       "      <td>Environmental Accounts</td>\n",
       "      <td>4549445.0</td>\n",
       "      <td>P</td>\n",
       "    </tr>\n",
       "    <tr>\n",
       "      <th>580</th>\n",
       "      <td>2020</td>\n",
       "      <td>Total marine economy</td>\n",
       "      <td>Gross earnings</td>\n",
       "      <td>Dollars</td>\n",
       "      <td>Thousands</td>\n",
       "      <td>LEED</td>\n",
       "      <td>2320898.0</td>\n",
       "      <td>P</td>\n",
       "    </tr>\n",
       "    <tr>\n",
       "      <th>581</th>\n",
       "      <td>2020</td>\n",
       "      <td>Total marine economy</td>\n",
       "      <td>Wage and salary earners</td>\n",
       "      <td>Number</td>\n",
       "      <td>Actual</td>\n",
       "      <td>LEED</td>\n",
       "      <td>40572.0</td>\n",
       "      <td>P</td>\n",
       "    </tr>\n",
       "  </tbody>\n",
       "</table>\n",
       "<p>582 rows × 8 columns</p>\n",
       "</div>"
      ],
      "text/plain": [
       "     year                   category                                 variable  \\\n",
       "0    2007  Fisheries and aquaculture      Cont. to ME Wage and salary earners   \n",
       "1    2007  Fisheries and aquaculture       Contribution to marine economy GDP   \n",
       "2    2007  Fisheries and aquaculture  Contribution to marine economy earnings   \n",
       "3    2007  Fisheries and aquaculture                Contribution to total GDP   \n",
       "4    2007  Fisheries and aquaculture                                      GDP   \n",
       "..    ...                        ...                                      ...   \n",
       "577  2019       Total marine economy                  Wage and salary earners   \n",
       "578  2020       Total marine economy                Contribution to total GDP   \n",
       "579  2020       Total marine economy                                      GDP   \n",
       "580  2020       Total marine economy                           Gross earnings   \n",
       "581  2020       Total marine economy                  Wage and salary earners   \n",
       "\n",
       "          units  magnitude                  source  data_value flag  \n",
       "0    Proportion     Actual                    LEED        42.1    R  \n",
       "1    Proportion     Actual  Environmental Accounts        24.5    R  \n",
       "2    Proportion     Actual                    LEED        41.6    R  \n",
       "3    Proportion     Actual  Environmental Accounts         0.4    F  \n",
       "4       Dollars  Thousands  Environmental Accounts    715722.0    F  \n",
       "..          ...        ...                     ...         ...  ...  \n",
       "577      Number     Actual                    LEED     39846.0    P  \n",
       "578  Proportion     Actual  Environmental Accounts         1.4    P  \n",
       "579     Dollars  Thousands  Environmental Accounts   4549445.0    P  \n",
       "580     Dollars  Thousands                    LEED   2320898.0    P  \n",
       "581      Number     Actual                    LEED     40572.0    P  \n",
       "\n",
       "[582 rows x 8 columns]"
      ]
     },
     "execution_count": 12,
     "metadata": {},
     "output_type": "execute_result"
    }
   ],
   "source": [
    "import_data = pd.read_csv(\"me-2007-2020.csv\")\n",
    "import_data"
   ]
  },
  {
   "cell_type": "code",
   "execution_count": 15,
   "metadata": {},
   "outputs": [
    {
     "data": {
      "text/plain": [
       "year            int64\n",
       "category       object\n",
       "variable       object\n",
       "units          object\n",
       "magnitude      object\n",
       "source         object\n",
       "data_value    float64\n",
       "flag           object\n",
       "dtype: object"
      ]
     },
     "execution_count": 15,
     "metadata": {},
     "output_type": "execute_result"
    }
   ],
   "source": [
    "####Let's check our data types to understand what kind of data it contains.\n",
    "import_data.dtypes\n"
   ]
  },
  {
   "cell_type": "code",
   "execution_count": 18,
   "metadata": {},
   "outputs": [
    {
     "data": {
      "text/html": [
       "<div>\n",
       "<style scoped>\n",
       "    .dataframe tbody tr th:only-of-type {\n",
       "        vertical-align: middle;\n",
       "    }\n",
       "\n",
       "    .dataframe tbody tr th {\n",
       "        vertical-align: top;\n",
       "    }\n",
       "\n",
       "    .dataframe thead th {\n",
       "        text-align: right;\n",
       "    }\n",
       "</style>\n",
       "<table border=\"1\" class=\"dataframe\">\n",
       "  <thead>\n",
       "    <tr style=\"text-align: right;\">\n",
       "      <th></th>\n",
       "      <th>year</th>\n",
       "      <th>data_value</th>\n",
       "    </tr>\n",
       "  </thead>\n",
       "  <tbody>\n",
       "    <tr>\n",
       "      <th>count</th>\n",
       "      <td>582.000000</td>\n",
       "      <td>5.700000e+02</td>\n",
       "    </tr>\n",
       "    <tr>\n",
       "      <th>mean</th>\n",
       "      <td>2013.561856</td>\n",
       "      <td>2.968421e+05</td>\n",
       "    </tr>\n",
       "    <tr>\n",
       "      <th>std</th>\n",
       "      <td>4.008441</td>\n",
       "      <td>7.808793e+05</td>\n",
       "    </tr>\n",
       "    <tr>\n",
       "      <th>min</th>\n",
       "      <td>2007.000000</td>\n",
       "      <td>-6.739000e+03</td>\n",
       "    </tr>\n",
       "    <tr>\n",
       "      <th>25%</th>\n",
       "      <td>2010.000000</td>\n",
       "      <td>2.900000e+00</td>\n",
       "    </tr>\n",
       "    <tr>\n",
       "      <th>50%</th>\n",
       "      <td>2014.000000</td>\n",
       "      <td>4.735000e+01</td>\n",
       "    </tr>\n",
       "    <tr>\n",
       "      <th>75%</th>\n",
       "      <td>2017.000000</td>\n",
       "      <td>5.331400e+04</td>\n",
       "    </tr>\n",
       "    <tr>\n",
       "      <th>max</th>\n",
       "      <td>2020.000000</td>\n",
       "      <td>4.611116e+06</td>\n",
       "    </tr>\n",
       "  </tbody>\n",
       "</table>\n",
       "</div>"
      ],
      "text/plain": [
       "              year    data_value\n",
       "count   582.000000  5.700000e+02\n",
       "mean   2013.561856  2.968421e+05\n",
       "std       4.008441  7.808793e+05\n",
       "min    2007.000000 -6.739000e+03\n",
       "25%    2010.000000  2.900000e+00\n",
       "50%    2014.000000  4.735000e+01\n",
       "75%    2017.000000  5.331400e+04\n",
       "max    2020.000000  4.611116e+06"
      ]
     },
     "execution_count": 18,
     "metadata": {},
     "output_type": "execute_result"
    }
   ],
   "source": [
    "import_data.describe()"
   ]
  },
  {
   "cell_type": "code",
   "execution_count": 64,
   "metadata": {},
   "outputs": [
    {
     "data": {
      "application/vnd.plotly.v1+json": {
       "config": {
        "plotlyServerURL": "https://plot.ly"
       },
       "data": [
        {
         "alignmentgroup": "True",
         "bingroup": "x",
         "hovertemplate": "category=Fisheries and aquaculture<br>data_value=%{x}<br>count=%{y}<extra></extra>",
         "legendgroup": "Fisheries and aquaculture",
         "marker": {
          "color": "#636efa",
          "pattern": {
           "shape": ""
          }
         },
         "name": "Fisheries and aquaculture",
         "offsetgroup": "Fisheries and aquaculture",
         "orientation": "v",
         "showlegend": true,
         "type": "histogram",
         "x": [
          42.1,
          24.5,
          41.6,
          0.4,
          715722,
          615354,
          15726,
          39.4,
          13.5,
          38.4,
          0.3,
          564630,
          591765,
          14655,
          39.8,
          16.2,
          38.9,
          0.4,
          688792,
          637548,
          14574,
          40.8,
          17,
          38.6,
          0.4,
          762224,
          623250,
          13803,
          39.9,
          18.5,
          38.6,
          0.4,
          851073,
          650658,
          13443,
          41.6,
          19,
          40.3,
          0.4,
          839194,
          703318,
          14106,
          41.7,
          19.8,
          39.8,
          0.4,
          854833,
          692340,
          13764,
          41.1,
          20.4,
          39.9,
          0.4,
          836932,
          691232,
          14397,
          40.3,
          22,
          34.3,
          0.4,
          931997,
          670046,
          14148,
          40.8,
          29.5,
          33.6,
          0.5,
          1155732,
          671836,
          14598,
          41.6,
          27.6,
          35.3,
          0.4,
          1072676,
          714691,
          15831,
          41.8,
          27.5,
          35.9,
          0.4,
          1162212,
          763767,
          16230,
          41.4,
          27.4,
          35,
          0.4,
          1196428,
          784948,
          16494,
          42.8,
          27.6,
          36.1,
          0.4,
          1254840,
          836981,
          17349
         ],
         "xaxis": "x",
         "yaxis": "y"
        },
        {
         "alignmentgroup": "True",
         "bingroup": "x",
         "hovertemplate": "category=Government and defence<br>data_value=%{x}<br>count=%{y}<extra></extra>",
         "legendgroup": "Government and defence",
         "marker": {
          "color": "#EF553B",
          "pattern": {
           "shape": ""
          }
         },
         "name": "Government and defence",
         "offsetgroup": "Government and defence",
         "orientation": "v",
         "showlegend": true,
         "type": "histogram",
         "x": [
          0.1,
          0,
          3297,
          0.1,
          0,
          2481,
          0.1,
          0,
          3195,
          0.1,
          0,
          5581,
          0.1,
          0,
          5408,
          0.1,
          0,
          5551,
          0.1,
          0,
          5179,
          0.1,
          0,
          4541,
          0.1,
          0,
          4416,
          0.1,
          0,
          4376,
          0.1,
          0,
          5007,
          0.1,
          0,
          5541
         ],
         "xaxis": "x",
         "yaxis": "y"
        },
        {
         "alignmentgroup": "True",
         "bingroup": "x",
         "hovertemplate": "category=Marine services<br>data_value=%{x}<br>count=%{y}<extra></extra>",
         "legendgroup": "Marine services",
         "marker": {
          "color": "#00cc96",
          "pattern": {
           "shape": ""
          }
         },
         "name": "Marine services",
         "offsetgroup": "Marine services",
         "orientation": "v",
         "showlegend": true,
         "type": "histogram",
         "x": [
          3.9,
          null,
          4.4,
          null,
          null,
          65380,
          1467,
          4.5,
          null,
          5.3,
          null,
          null,
          80915,
          1677,
          4.7,
          2.9,
          5.7,
          0.1,
          125559,
          92838,
          1719,
          4.5,
          3.1,
          5.9,
          0.1,
          136986,
          95249,
          1521,
          4.3,
          2.6,
          5.2,
          0.1,
          120131,
          88071,
          1431,
          3.7,
          3.2,
          4.3,
          0.1,
          139137,
          75777,
          1260,
          3.6,
          3.6,
          4.4,
          0.1,
          154022,
          76292,
          1203,
          3.5,
          3.9,
          4.7,
          0.1,
          158223,
          81033,
          1215,
          3.5,
          5.5,
          4.4,
          0.1,
          234404,
          85974,
          1227,
          3.4,
          4.9,
          4.2,
          0.1,
          193947,
          83211,
          1218,
          3.4,
          -0.2,
          4.1,
          0,
          -6739,
          82962,
          1305,
          3.3,
          2.3,
          4.5,
          0,
          96299,
          96676,
          1293,
          3.2,
          3.9,
          4.3,
          0.1,
          170368,
          96502,
          1287,
          3,
          5,
          3.9,
          0.1,
          225434,
          89485,
          1212
         ],
         "xaxis": "x",
         "yaxis": "y"
        },
        {
         "alignmentgroup": "True",
         "bingroup": "x",
         "hovertemplate": "category=Marine tourism and recreation<br>data_value=%{x}<br>count=%{y}<extra></extra>",
         "legendgroup": "Marine tourism and recreation",
         "marker": {
          "color": "#ab63fa",
          "pattern": {
           "shape": ""
          }
         },
         "name": "Marine tourism and recreation",
         "offsetgroup": "Marine tourism and recreation",
         "orientation": "v",
         "showlegend": true,
         "type": "histogram",
         "x": [
          3,
          null,
          2,
          null,
          null,
          28948,
          1131,
          3.3,
          null,
          2.1,
          null,
          null,
          33070,
          1221,
          3,
          0.6,
          1.9,
          0,
          27078,
          31817,
          1080,
          2.9,
          0.8,
          1.9,
          0,
          35932,
          30274,
          993,
          3,
          0.6,
          1.8,
          0,
          28580,
          30578,
          996,
          2.9,
          1.2,
          1.8,
          0,
          51586,
          31572,
          996,
          2.9,
          1,
          1.8,
          0,
          43041,
          30939,
          969,
          2.9,
          0.2,
          1.9,
          0,
          10103,
          32173,
          1002,
          2.9,
          0.8,
          1.8,
          0,
          33160,
          34378,
          1014,
          3.2,
          1.6,
          1.9,
          0,
          62919,
          38663,
          1131,
          3.2,
          2.2,
          2.2,
          0,
          83570,
          43754,
          1215,
          3.2,
          2.2,
          2.2,
          0,
          94893,
          46726,
          1257,
          3.4,
          2.3,
          2.3,
          0,
          101817,
          51540,
          1344,
          3.4,
          2.2,
          2.3,
          0,
          101903,
          53890,
          1374
         ],
         "xaxis": "x",
         "yaxis": "y"
        },
        {
         "alignmentgroup": "True",
         "bingroup": "x",
         "hovertemplate": "category=Offshore minerals<br>data_value=%{x}<br>count=%{y}<extra></extra>",
         "legendgroup": "Offshore minerals",
         "marker": {
          "color": "#FFA15A",
          "pattern": {
           "shape": ""
          }
         },
         "name": "Offshore minerals",
         "offsetgroup": "Offshore minerals",
         "orientation": "v",
         "showlegend": true,
         "type": "histogram",
         "x": [
          2.5,
          26.9,
          5.8,
          0.5,
          787078,
          86330,
          918,
          2.5,
          52.5,
          6.2,
          1.2,
          2200130,
          95761,
          930,
          2.5,
          54.2,
          6.7,
          1.2,
          2309240,
          109183,
          912,
          2.9,
          51.3,
          7.3,
          1.2,
          2297657,
          117419,
          975,
          2.9,
          50.4,
          7.2,
          1.1,
          2322137,
          121834,
          975,
          2.8,
          48,
          6.6,
          1,
          2117062,
          115350,
          939,
          2.9,
          45.3,
          6.8,
          0.9,
          1951832,
          117852,
          951,
          4.7,
          41.6,
          11.6,
          0.7,
          1705289,
          200878,
          1656,
          4.9,
          38.4,
          12.2,
          0.7,
          1625954,
          238285,
          1704,
          4.5,
          24.2,
          11.3,
          0.4,
          949090,
          225517,
          1620,
          4.1,
          24.8,
          10.2,
          0.4,
          961954,
          205909,
          1551,
          4,
          25.9,
          9.7,
          0.4,
          1095510,
          206436,
          1572,
          3.7,
          23,
          9.4,
          0.3,
          1004507,
          211368,
          1479,
          3.4,
          21.4,
          7.3,
          0.3,
          971771,
          169383,
          1368
         ],
         "xaxis": "x",
         "yaxis": "y"
        },
        {
         "alignmentgroup": "True",
         "bingroup": "x",
         "hovertemplate": "category=Shipping<br>data_value=%{x}<br>count=%{y}<extra></extra>",
         "legendgroup": "Shipping",
         "marker": {
          "color": "#19d3f3",
          "pattern": {
           "shape": ""
          }
         },
         "name": "Shipping",
         "offsetgroup": "Shipping",
         "orientation": "v",
         "showlegend": true,
         "type": "histogram",
         "x": [
          48.5,
          40.7,
          46.2,
          0.7,
          1188749,
          684551,
          18114,
          50.4,
          28.5,
          48,
          0.6,
          1194751,
          738517,
          18756,
          50,
          25.9,
          46.8,
          0.6,
          1102803,
          765825,
          18288,
          48.9,
          27.8,
          46.4,
          0.6,
          1245291,
          749520,
          16521,
          50,
          27.9,
          47.2,
          0.6,
          1286000,
          796254,
          16812,
          49,
          28.6,
          46.9,
          0.6,
          1259813,
          818253,
          16590,
          48.9,
          30.2,
          47.3,
          0.6,
          1303587,
          821804,
          16131,
          47.9,
          33.7,
          41.9,
          0.6,
          1379831,
          725337,
          16797,
          48.5,
          33.2,
          47.4,
          0.6,
          1408034,
          926923,
          17016,
          48,
          39.7,
          49,
          0.6,
          1557587,
          980011,
          17169,
          47.7,
          45.6,
          48.3,
          0.7,
          1770110,
          979017,
          18159,
          47.6,
          41.9,
          47.6,
          0.6,
          1769305,
          1013444,
          18510,
          48.3,
          43.3,
          48.9,
          0.6,
          1895163,
          1096988,
          19242,
          47.5,
          43.7,
          50.5,
          0.6,
          1989957,
          1171160,
          19269
         ],
         "xaxis": "x",
         "yaxis": "y"
        },
        {
         "alignmentgroup": "True",
         "bingroup": "x",
         "hovertemplate": "category=Total marine economy<br>data_value=%{x}<br>count=%{y}<extra></extra>",
         "legendgroup": "Total marine economy",
         "marker": {
          "color": "#FF6692",
          "pattern": {
           "shape": ""
          }
         },
         "name": "Total marine economy",
         "offsetgroup": "Total marine economy",
         "orientation": "v",
         "showlegend": true,
         "type": "histogram",
         "x": [
          1.7,
          2921561,
          1480564,
          37356,
          2.2,
          4187783,
          1540028,
          37239,
          2.2,
          4256769,
          1637211,
          36573,
          2.3,
          4480573,
          1615712,
          33813,
          2.3,
          4611116,
          1687395,
          33657,
          2.1,
          4412374,
          1744269,
          33891,
          2,
          4312723,
          1739228,
          33018,
          1.8,
          4095929,
          1730652,
          35067,
          1.7,
          4238729,
          1955607,
          35109,
          1.5,
          3923816,
          1999238,
          35736,
          1.4,
          3885987,
          2026333,
          38061,
          1.5,
          4222595,
          2127048,
          38862,
          1.4,
          4373290,
          2241346,
          39846,
          1.4,
          4549445,
          2320898,
          40572
         ],
         "xaxis": "x",
         "yaxis": "y"
        }
       ],
       "layout": {
        "bargap": 0.2,
        "barmode": "relative",
        "legend": {
         "title": {
          "text": "category"
         },
         "tracegroupgap": 0
        },
        "margin": {
         "t": 60
        },
        "template": {
         "data": {
          "bar": [
           {
            "error_x": {
             "color": "#2a3f5f"
            },
            "error_y": {
             "color": "#2a3f5f"
            },
            "marker": {
             "line": {
              "color": "#E5ECF6",
              "width": 0.5
             },
             "pattern": {
              "fillmode": "overlay",
              "size": 10,
              "solidity": 0.2
             }
            },
            "type": "bar"
           }
          ],
          "barpolar": [
           {
            "marker": {
             "line": {
              "color": "#E5ECF6",
              "width": 0.5
             },
             "pattern": {
              "fillmode": "overlay",
              "size": 10,
              "solidity": 0.2
             }
            },
            "type": "barpolar"
           }
          ],
          "carpet": [
           {
            "aaxis": {
             "endlinecolor": "#2a3f5f",
             "gridcolor": "white",
             "linecolor": "white",
             "minorgridcolor": "white",
             "startlinecolor": "#2a3f5f"
            },
            "baxis": {
             "endlinecolor": "#2a3f5f",
             "gridcolor": "white",
             "linecolor": "white",
             "minorgridcolor": "white",
             "startlinecolor": "#2a3f5f"
            },
            "type": "carpet"
           }
          ],
          "choropleth": [
           {
            "colorbar": {
             "outlinewidth": 0,
             "ticks": ""
            },
            "type": "choropleth"
           }
          ],
          "contour": [
           {
            "colorbar": {
             "outlinewidth": 0,
             "ticks": ""
            },
            "colorscale": [
             [
              0,
              "#0d0887"
             ],
             [
              0.1111111111111111,
              "#46039f"
             ],
             [
              0.2222222222222222,
              "#7201a8"
             ],
             [
              0.3333333333333333,
              "#9c179e"
             ],
             [
              0.4444444444444444,
              "#bd3786"
             ],
             [
              0.5555555555555556,
              "#d8576b"
             ],
             [
              0.6666666666666666,
              "#ed7953"
             ],
             [
              0.7777777777777778,
              "#fb9f3a"
             ],
             [
              0.8888888888888888,
              "#fdca26"
             ],
             [
              1,
              "#f0f921"
             ]
            ],
            "type": "contour"
           }
          ],
          "contourcarpet": [
           {
            "colorbar": {
             "outlinewidth": 0,
             "ticks": ""
            },
            "type": "contourcarpet"
           }
          ],
          "heatmap": [
           {
            "colorbar": {
             "outlinewidth": 0,
             "ticks": ""
            },
            "colorscale": [
             [
              0,
              "#0d0887"
             ],
             [
              0.1111111111111111,
              "#46039f"
             ],
             [
              0.2222222222222222,
              "#7201a8"
             ],
             [
              0.3333333333333333,
              "#9c179e"
             ],
             [
              0.4444444444444444,
              "#bd3786"
             ],
             [
              0.5555555555555556,
              "#d8576b"
             ],
             [
              0.6666666666666666,
              "#ed7953"
             ],
             [
              0.7777777777777778,
              "#fb9f3a"
             ],
             [
              0.8888888888888888,
              "#fdca26"
             ],
             [
              1,
              "#f0f921"
             ]
            ],
            "type": "heatmap"
           }
          ],
          "heatmapgl": [
           {
            "colorbar": {
             "outlinewidth": 0,
             "ticks": ""
            },
            "colorscale": [
             [
              0,
              "#0d0887"
             ],
             [
              0.1111111111111111,
              "#46039f"
             ],
             [
              0.2222222222222222,
              "#7201a8"
             ],
             [
              0.3333333333333333,
              "#9c179e"
             ],
             [
              0.4444444444444444,
              "#bd3786"
             ],
             [
              0.5555555555555556,
              "#d8576b"
             ],
             [
              0.6666666666666666,
              "#ed7953"
             ],
             [
              0.7777777777777778,
              "#fb9f3a"
             ],
             [
              0.8888888888888888,
              "#fdca26"
             ],
             [
              1,
              "#f0f921"
             ]
            ],
            "type": "heatmapgl"
           }
          ],
          "histogram": [
           {
            "marker": {
             "pattern": {
              "fillmode": "overlay",
              "size": 10,
              "solidity": 0.2
             }
            },
            "type": "histogram"
           }
          ],
          "histogram2d": [
           {
            "colorbar": {
             "outlinewidth": 0,
             "ticks": ""
            },
            "colorscale": [
             [
              0,
              "#0d0887"
             ],
             [
              0.1111111111111111,
              "#46039f"
             ],
             [
              0.2222222222222222,
              "#7201a8"
             ],
             [
              0.3333333333333333,
              "#9c179e"
             ],
             [
              0.4444444444444444,
              "#bd3786"
             ],
             [
              0.5555555555555556,
              "#d8576b"
             ],
             [
              0.6666666666666666,
              "#ed7953"
             ],
             [
              0.7777777777777778,
              "#fb9f3a"
             ],
             [
              0.8888888888888888,
              "#fdca26"
             ],
             [
              1,
              "#f0f921"
             ]
            ],
            "type": "histogram2d"
           }
          ],
          "histogram2dcontour": [
           {
            "colorbar": {
             "outlinewidth": 0,
             "ticks": ""
            },
            "colorscale": [
             [
              0,
              "#0d0887"
             ],
             [
              0.1111111111111111,
              "#46039f"
             ],
             [
              0.2222222222222222,
              "#7201a8"
             ],
             [
              0.3333333333333333,
              "#9c179e"
             ],
             [
              0.4444444444444444,
              "#bd3786"
             ],
             [
              0.5555555555555556,
              "#d8576b"
             ],
             [
              0.6666666666666666,
              "#ed7953"
             ],
             [
              0.7777777777777778,
              "#fb9f3a"
             ],
             [
              0.8888888888888888,
              "#fdca26"
             ],
             [
              1,
              "#f0f921"
             ]
            ],
            "type": "histogram2dcontour"
           }
          ],
          "mesh3d": [
           {
            "colorbar": {
             "outlinewidth": 0,
             "ticks": ""
            },
            "type": "mesh3d"
           }
          ],
          "parcoords": [
           {
            "line": {
             "colorbar": {
              "outlinewidth": 0,
              "ticks": ""
             }
            },
            "type": "parcoords"
           }
          ],
          "pie": [
           {
            "automargin": true,
            "type": "pie"
           }
          ],
          "scatter": [
           {
            "fillpattern": {
             "fillmode": "overlay",
             "size": 10,
             "solidity": 0.2
            },
            "type": "scatter"
           }
          ],
          "scatter3d": [
           {
            "line": {
             "colorbar": {
              "outlinewidth": 0,
              "ticks": ""
             }
            },
            "marker": {
             "colorbar": {
              "outlinewidth": 0,
              "ticks": ""
             }
            },
            "type": "scatter3d"
           }
          ],
          "scattercarpet": [
           {
            "marker": {
             "colorbar": {
              "outlinewidth": 0,
              "ticks": ""
             }
            },
            "type": "scattercarpet"
           }
          ],
          "scattergeo": [
           {
            "marker": {
             "colorbar": {
              "outlinewidth": 0,
              "ticks": ""
             }
            },
            "type": "scattergeo"
           }
          ],
          "scattergl": [
           {
            "marker": {
             "colorbar": {
              "outlinewidth": 0,
              "ticks": ""
             }
            },
            "type": "scattergl"
           }
          ],
          "scattermapbox": [
           {
            "marker": {
             "colorbar": {
              "outlinewidth": 0,
              "ticks": ""
             }
            },
            "type": "scattermapbox"
           }
          ],
          "scatterpolar": [
           {
            "marker": {
             "colorbar": {
              "outlinewidth": 0,
              "ticks": ""
             }
            },
            "type": "scatterpolar"
           }
          ],
          "scatterpolargl": [
           {
            "marker": {
             "colorbar": {
              "outlinewidth": 0,
              "ticks": ""
             }
            },
            "type": "scatterpolargl"
           }
          ],
          "scatterternary": [
           {
            "marker": {
             "colorbar": {
              "outlinewidth": 0,
              "ticks": ""
             }
            },
            "type": "scatterternary"
           }
          ],
          "surface": [
           {
            "colorbar": {
             "outlinewidth": 0,
             "ticks": ""
            },
            "colorscale": [
             [
              0,
              "#0d0887"
             ],
             [
              0.1111111111111111,
              "#46039f"
             ],
             [
              0.2222222222222222,
              "#7201a8"
             ],
             [
              0.3333333333333333,
              "#9c179e"
             ],
             [
              0.4444444444444444,
              "#bd3786"
             ],
             [
              0.5555555555555556,
              "#d8576b"
             ],
             [
              0.6666666666666666,
              "#ed7953"
             ],
             [
              0.7777777777777778,
              "#fb9f3a"
             ],
             [
              0.8888888888888888,
              "#fdca26"
             ],
             [
              1,
              "#f0f921"
             ]
            ],
            "type": "surface"
           }
          ],
          "table": [
           {
            "cells": {
             "fill": {
              "color": "#EBF0F8"
             },
             "line": {
              "color": "white"
             }
            },
            "header": {
             "fill": {
              "color": "#C8D4E3"
             },
             "line": {
              "color": "white"
             }
            },
            "type": "table"
           }
          ]
         },
         "layout": {
          "annotationdefaults": {
           "arrowcolor": "#2a3f5f",
           "arrowhead": 0,
           "arrowwidth": 1
          },
          "autotypenumbers": "strict",
          "coloraxis": {
           "colorbar": {
            "outlinewidth": 0,
            "ticks": ""
           }
          },
          "colorscale": {
           "diverging": [
            [
             0,
             "#8e0152"
            ],
            [
             0.1,
             "#c51b7d"
            ],
            [
             0.2,
             "#de77ae"
            ],
            [
             0.3,
             "#f1b6da"
            ],
            [
             0.4,
             "#fde0ef"
            ],
            [
             0.5,
             "#f7f7f7"
            ],
            [
             0.6,
             "#e6f5d0"
            ],
            [
             0.7,
             "#b8e186"
            ],
            [
             0.8,
             "#7fbc41"
            ],
            [
             0.9,
             "#4d9221"
            ],
            [
             1,
             "#276419"
            ]
           ],
           "sequential": [
            [
             0,
             "#0d0887"
            ],
            [
             0.1111111111111111,
             "#46039f"
            ],
            [
             0.2222222222222222,
             "#7201a8"
            ],
            [
             0.3333333333333333,
             "#9c179e"
            ],
            [
             0.4444444444444444,
             "#bd3786"
            ],
            [
             0.5555555555555556,
             "#d8576b"
            ],
            [
             0.6666666666666666,
             "#ed7953"
            ],
            [
             0.7777777777777778,
             "#fb9f3a"
            ],
            [
             0.8888888888888888,
             "#fdca26"
            ],
            [
             1,
             "#f0f921"
            ]
           ],
           "sequentialminus": [
            [
             0,
             "#0d0887"
            ],
            [
             0.1111111111111111,
             "#46039f"
            ],
            [
             0.2222222222222222,
             "#7201a8"
            ],
            [
             0.3333333333333333,
             "#9c179e"
            ],
            [
             0.4444444444444444,
             "#bd3786"
            ],
            [
             0.5555555555555556,
             "#d8576b"
            ],
            [
             0.6666666666666666,
             "#ed7953"
            ],
            [
             0.7777777777777778,
             "#fb9f3a"
            ],
            [
             0.8888888888888888,
             "#fdca26"
            ],
            [
             1,
             "#f0f921"
            ]
           ]
          },
          "colorway": [
           "#636efa",
           "#EF553B",
           "#00cc96",
           "#ab63fa",
           "#FFA15A",
           "#19d3f3",
           "#FF6692",
           "#B6E880",
           "#FF97FF",
           "#FECB52"
          ],
          "font": {
           "color": "#2a3f5f"
          },
          "geo": {
           "bgcolor": "white",
           "lakecolor": "white",
           "landcolor": "#E5ECF6",
           "showlakes": true,
           "showland": true,
           "subunitcolor": "white"
          },
          "hoverlabel": {
           "align": "left"
          },
          "hovermode": "closest",
          "mapbox": {
           "style": "light"
          },
          "paper_bgcolor": "white",
          "plot_bgcolor": "#E5ECF6",
          "polar": {
           "angularaxis": {
            "gridcolor": "white",
            "linecolor": "white",
            "ticks": ""
           },
           "bgcolor": "#E5ECF6",
           "radialaxis": {
            "gridcolor": "white",
            "linecolor": "white",
            "ticks": ""
           }
          },
          "scene": {
           "xaxis": {
            "backgroundcolor": "#E5ECF6",
            "gridcolor": "white",
            "gridwidth": 2,
            "linecolor": "white",
            "showbackground": true,
            "ticks": "",
            "zerolinecolor": "white"
           },
           "yaxis": {
            "backgroundcolor": "#E5ECF6",
            "gridcolor": "white",
            "gridwidth": 2,
            "linecolor": "white",
            "showbackground": true,
            "ticks": "",
            "zerolinecolor": "white"
           },
           "zaxis": {
            "backgroundcolor": "#E5ECF6",
            "gridcolor": "white",
            "gridwidth": 2,
            "linecolor": "white",
            "showbackground": true,
            "ticks": "",
            "zerolinecolor": "white"
           }
          },
          "shapedefaults": {
           "line": {
            "color": "#2a3f5f"
           }
          },
          "ternary": {
           "aaxis": {
            "gridcolor": "white",
            "linecolor": "white",
            "ticks": ""
           },
           "baxis": {
            "gridcolor": "white",
            "linecolor": "white",
            "ticks": ""
           },
           "bgcolor": "#E5ECF6",
           "caxis": {
            "gridcolor": "white",
            "linecolor": "white",
            "ticks": ""
           }
          },
          "title": {
           "x": 0.05
          },
          "xaxis": {
           "automargin": true,
           "gridcolor": "white",
           "linecolor": "white",
           "ticks": "",
           "title": {
            "standoff": 15
           },
           "zerolinecolor": "white",
           "zerolinewidth": 2
          },
          "yaxis": {
           "automargin": true,
           "gridcolor": "white",
           "linecolor": "white",
           "ticks": "",
           "title": {
            "standoff": 15
           },
           "zerolinecolor": "white",
           "zerolinewidth": 2
          }
         }
        },
        "xaxis": {
         "anchor": "y",
         "domain": [
          0,
          1
         ],
         "title": {
          "text": "data_value"
         }
        },
        "yaxis": {
         "anchor": "x",
         "domain": [
          0,
          1
         ],
         "title": {
          "text": "count"
         }
        }
       }
      }
     },
     "metadata": {},
     "output_type": "display_data"
    }
   ],
   "source": [
    "####Plotting from which categories the income is coming from\n",
    "fig= pl.histogram(import_data, x=\"data_value\", color=\"category\")\n",
    "fig.update_layout(bargap=0.2)"
   ]
  },
  {
   "cell_type": "markdown",
   "metadata": {},
   "source": [
    "### As of know, we can easily see what influenciates the marine economy the most."
   ]
  }
 ],
 "metadata": {
  "kernelspec": {
   "display_name": "Python 3.9.13",
   "language": "python",
   "name": "python3"
  },
  "language_info": {
   "codemirror_mode": {
    "name": "ipython",
    "version": 3
   },
   "file_extension": ".py",
   "mimetype": "text/x-python",
   "name": "python",
   "nbconvert_exporter": "python",
   "pygments_lexer": "ipython3",
   "version": "3.9.13"
  },
  "orig_nbformat": 4,
  "vscode": {
   "interpreter": {
    "hash": "f2cf8503855fe28725e0a21721d32a01be05a185ee1e16941d5f55b2e03f6c18"
   }
  }
 },
 "nbformat": 4,
 "nbformat_minor": 2
}
